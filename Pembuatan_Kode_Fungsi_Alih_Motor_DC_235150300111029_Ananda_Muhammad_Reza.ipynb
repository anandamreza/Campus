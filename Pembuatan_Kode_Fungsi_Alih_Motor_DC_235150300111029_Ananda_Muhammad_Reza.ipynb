{
  "nbformat": 4,
  "nbformat_minor": 0,
  "metadata": {
    "colab": {
      "provenance": [],
      "authorship_tag": "ABX9TyOB2vAk7fQKqNUUaTcvO4jV",
      "include_colab_link": true
    },
    "kernelspec": {
      "name": "python3",
      "display_name": "Python 3"
    },
    "language_info": {
      "name": "python"
    }
  },
  "cells": [
    {
      "cell_type": "markdown",
      "metadata": {
        "id": "view-in-github",
        "colab_type": "text"
      },
      "source": [
        "<a href=\"https://colab.research.google.com/github/anandamreza/Campus/blob/main/Pembuatan_Kode_Fungsi_Alih_Motor_DC_235150300111029_Ananda_Muhammad_Reza.ipynb\" target=\"_parent\"><img src=\"https://colab.research.google.com/assets/colab-badge.svg\" alt=\"Open In Colab\"/></a>"
      ]
    },
    {
      "cell_type": "markdown",
      "source": [
        "# Tugas Pembuatan Kode Fungsi Alih Motor DC\n",
        "### Nama : Ananda Muhammad Reza\n",
        "### NIM  : 235150300111029\n"
      ],
      "metadata": {
        "id": "-DatxOvqJLXW"
      }
    },
    {
      "cell_type": "markdown",
      "source": [
        "1. Model Matematika Motor DC (Persamaan Listrik dan Mekanik)"
      ],
      "metadata": {
        "id": "b1qJ-rwKymgh"
      }
    },
    {
      "cell_type": "code",
      "source": [
        "import sympy as sp\n",
        "\n",
        "# Define symbols\n",
        "L, R, V, K, theta, I, doti, J, b, s, t, omega, omegadot = sp.symbols('L, R, V, K, \\\\theta, I, \\\\dot{i}, J, b, s, t, omega,\\\\dot{\\\\omega}')\n",
        "\n",
        "# Model Matematika Motor DC\n",
        "eq1 = sp.Eq(L * doti + R * I + K * omega, V)  # Persamaan listrik (hukum Kirchoff)\n",
        "eq2 = sp.Eq(J * omegadot + b * omega - K * I, 0)  # Persamaan mekanik (hukum Newton)\n",
        "\n",
        "# Tampilkan persamaan\n",
        "display(eq1)\n",
        "display(eq2)"
      ],
      "metadata": {
        "colab": {
          "base_uri": "https://localhost:8080/",
          "height": 60
        },
        "id": "Xp6sHamOyp5T",
        "outputId": "3b809bed-7253-400a-f2ee-2db8aade22d7"
      },
      "execution_count": 79,
      "outputs": [
        {
          "output_type": "display_data",
          "data": {
            "text/plain": [
              "I⋅R + K⋅ω + L⋅\\dot{i} = V"
            ],
            "text/latex": "$\\displaystyle I R + K \\omega + L \\dot{i} = V$"
          },
          "metadata": {}
        },
        {
          "output_type": "display_data",
          "data": {
            "text/plain": [
              "-I⋅K + J⋅\\dot{\\omega} + b⋅ω = 0"
            ],
            "text/latex": "$\\displaystyle - I K + J \\dot{\\omega} + b \\omega = 0$"
          },
          "metadata": {}
        }
      ]
    },
    {
      "cell_type": "markdown",
      "source": [
        "2. Transformasi Laplace pada Motor DC"
      ],
      "metadata": {
        "id": "8zF1oZqFzD6n"
      }
    },
    {
      "cell_type": "code",
      "source": [
        "I_s, Omega_s, V_s = sp.symbols('I_s Omega_s V_s')\n",
        "laplace1 = eq1.subs({doti: s * I_s, I: I_s, omega: Omega_s, V: V_s}) # Laplace persamaan listrik\n",
        "laplace2 = eq2.subs({omegadot: s * Omega_s, omega: Omega_s, I: I_s}) # laplace persamaan mekanik\n",
        "\n",
        "display(laplace1)\n",
        "display(laplace2)"
      ],
      "metadata": {
        "colab": {
          "base_uri": "https://localhost:8080/",
          "height": 60
        },
        "id": "fel6Fw_OzWLG",
        "outputId": "0c627c59-b3b6-48da-f2f4-ae0d4f4d73f7"
      },
      "execution_count": 80,
      "outputs": [
        {
          "output_type": "display_data",
          "data": {
            "text/plain": [
              "Iₛ⋅L⋅s + Iₛ⋅R + K⋅Ωₛ = Vₛ"
            ],
            "text/latex": "$\\displaystyle I_{s} L s + I_{s} R + K \\Omega_{s} = V_{s}$"
          },
          "metadata": {}
        },
        {
          "output_type": "display_data",
          "data": {
            "text/plain": [
              "-Iₛ⋅K + J⋅Ωₛ⋅s + Ωₛ⋅b = 0"
            ],
            "text/latex": "$\\displaystyle - I_{s} K + J \\Omega_{s} s + \\Omega_{s} b = 0$"
          },
          "metadata": {}
        }
      ]
    },
    {
      "cell_type": "markdown",
      "source": [
        "3. Fungsi Alih Hubungan Antara  Kecepatan Sudut ($\\omega$) Terhadap Tegangan (V)"
      ],
      "metadata": {
        "id": "Jd70tRzr0CgA"
      }
    },
    {
      "cell_type": "code",
      "source": [
        "transform = sp.solve((laplace1, laplace2), (I_s, Omega_s))\n",
        "G_s = sp.simplify(transform[Omega_s] / V_s)\n",
        "\n",
        "display(G_s)"
      ],
      "metadata": {
        "colab": {
          "base_uri": "https://localhost:8080/",
          "height": 53
        },
        "id": "GZnSM3TP0GSn",
        "outputId": "b7d485cd-36e7-49f0-9159-b51fee5c57e5"
      },
      "execution_count": 81,
      "outputs": [
        {
          "output_type": "display_data",
          "data": {
            "text/plain": [
              "                K                \n",
              "─────────────────────────────────\n",
              "     2            2              \n",
              "J⋅L⋅s  + J⋅R⋅s + K  + L⋅b⋅s + R⋅b"
            ],
            "text/latex": "$\\displaystyle \\frac{K}{J L s^{2} + J R s + K^{2} + L b s + R b}$"
          },
          "metadata": {}
        }
      ]
    }
  ]
}